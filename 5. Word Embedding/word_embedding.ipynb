{
  "nbformat": 4,
  "nbformat_minor": 0,
  "metadata": {
    "colab": {
      "name": "word_embedding.ipynb",
      "provenance": [],
      "collapsed_sections": []
    },
    "kernelspec": {
      "name": "python3",
      "display_name": "Python 3"
    }
  },
  "cells": [
    {
      "cell_type": "markdown",
      "metadata": {
        "id": "N1Uc6XSQXWfY",
        "colab_type": "text"
      },
      "source": [
        "KEY WORD:\n",
        "\n",
        "Embedding, Embedding Projector, Integer-Encoding"
      ]
    },
    {
      "cell_type": "markdown",
      "metadata": {
        "id": "Ozb-zCcSYYcU",
        "colab_type": "text"
      },
      "source": [
        "# Representing text as numbers\n",
        "机器学习模型将数字Vector作为输入，那么text如何输入？我们需要将text转化为数字Vector，方法如下： （本次运用的方法都无法体现text中不同word之间的顺序关系）\n",
        "1. one-hot\n",
        "\n",
        "one-hot是经典的text在机器学习中的表达方式，其缺点是每条数据的Vector大小都是整个Vocabulary的长度，数据矩阵很大可能性是稀疏的，因此效率很低。\n",
        "\n",
        "2. Integer-Encoding\n",
        "\n",
        "把每个词汇表示成一个数字，这个方法效率高，因为数据矩阵一定是稠密的。 并且可以体现出\n",
        "一定的顺序关系。但是，词汇和数字的对应关系是完全随机的，无法体现出词汇之间的关系。 比如说，在机器学习中，某个输入为[1,999,..],这条输入前两个数据的差异会对模型参数带来较大影响，但是实际中这影响并没有实际意义。\n",
        "\n",
        "3. Word embedding\n",
        "\n",
        "Word embedding 把text转化为一堆浮点数。 An embeeding is a dense vector of floating point values（The lengthe of the vector is a parameter you specify）."
      ]
    },
    {
      "cell_type": "code",
      "metadata": {
        "id": "1h4tVuEzXMYI",
        "colab_type": "code",
        "colab": {}
      },
      "source": [
        "# set up\n",
        "! pip install -q tf-nightly\n",
        "import tensorflow as tf\n",
        "\n",
        "from tensorflow import keras\n",
        "from tensorflow.keras import layers\n",
        "\n",
        "import tensorflow_datasets as tfds\n",
        "tdfs.disable_progress_bar()"
      ],
      "execution_count": 0,
      "outputs": []
    },
    {
      "cell_type": "code",
      "metadata": {
        "id": "-Dq_QjMAeFta",
        "colab_type": "code",
        "colab": {}
      },
      "source": [
        "# ** JUST an example from keras.layers.embedding\n",
        "\n",
        "import numpy as np\n",
        "model = keras.Sequential()\n",
        "model.add(layers.Embedding(1000, 64, input_length=10))\n",
        "# the model will take as input an integer matrix of size (batch,\n",
        "# input_length).\n",
        "# the largest integer (i.e. word index) in the input should be no larger\n",
        "# than 999 (vocabulary size).\n",
        "# now model.output_shape == (None, 10, 64), where None is the batch\n",
        "# dimension.\n",
        "\n",
        "input_array = np.random.randint(1000, size=(32, 10))\n",
        "\n",
        "model.compile('rmsprop', 'mse')\n",
        "output_array = model.predict(input_array)\n",
        "print(output_array)\n",
        "assert output_array.shape == (32, 10, 64)"
      ],
      "execution_count": 0,
      "outputs": []
    },
    {
      "cell_type": "code",
      "metadata": {
        "id": "9ePunXu5gUL2",
        "colab_type": "code",
        "outputId": "81f9838e-c75c-4322-ccae-833e6f83d4d5",
        "colab": {
          "base_uri": "https://localhost:8080/",
          "height": 238
        }
      },
      "source": [
        "# embedding imlementation\n",
        "\n",
        "embedding_layer = layers.Embedding(1000, 5)\n",
        "# embedding 会初始化W（权值），W会随着前馈更新。一旦训练后，embedding可以大体上编码词汇之间的相似度关系\n",
        "\n",
        "# 如果你将一个Int传入embedding层，结果会把Int替换为从embedding table查找出的向量\n",
        "\n",
        "result = embedding_layer(tf.constant([[1,2,3],[4,5,6]]))\n",
        "result.numpy()"
      ],
      "execution_count": 0,
      "outputs": [
        {
          "output_type": "execute_result",
          "data": {
            "text/plain": [
              "array([[[-0.02182128, -0.03615363,  0.04407891,  0.0109274 ,\n",
              "         -0.04587669],\n",
              "        [ 0.01192899,  0.02608598, -0.03027564, -0.02010862,\n",
              "         -0.04398817],\n",
              "        [ 0.03892237,  0.00068573, -0.02380228,  0.04867423,\n",
              "          0.02925899]],\n",
              "\n",
              "       [[ 0.02247547, -0.03116169,  0.0123176 , -0.00340308,\n",
              "         -0.01889256],\n",
              "        [-0.01102257, -0.030169  , -0.03102337,  0.01961339,\n",
              "         -0.01036678],\n",
              "        [ 0.04716342,  0.04779247,  0.01146233,  0.0121388 ,\n",
              "          0.03851357]]], dtype=float32)"
            ]
          },
          "metadata": {
            "tags": []
          },
          "execution_count": 16
        }
      ]
    },
    {
      "cell_type": "code",
      "metadata": {
        "id": "jYj2S5uinopo",
        "colab_type": "code",
        "outputId": "5d0e598f-0c1a-4651-f9f1-67b72e0d543c",
        "colab": {
          "base_uri": "https://localhost:8080/",
          "height": 122
        }
      },
      "source": [
        "# task: train a sentiment classifer on IMDB movie reviews. In last movie review we used the Integer_Encoding.\n",
        "(train_data, test_data) , info = tfds.load(\n",
        "    'imdb_reviews/subwords8k',\n",
        "    split = (tfds.Split.TRAIN, tfds.Split.TEST),\n",
        "    with_info = True,\n",
        "    as_supervised = True\n",
        ") "
      ],
      "execution_count": 0,
      "outputs": [
        {
          "output_type": "stream",
          "text": [
            "\u001b[1mDownloading and preparing dataset imdb_reviews/subwords8k/1.0.0 (download: 80.23 MiB, generated: Unknown size, total: 80.23 MiB) to /root/tensorflow_datasets/imdb_reviews/subwords8k/1.0.0...\u001b[0m\n",
            "Shuffling and writing examples to /root/tensorflow_datasets/imdb_reviews/subwords8k/1.0.0.incompleteKH1U62/imdb_reviews-train.tfrecord\n",
            "Shuffling and writing examples to /root/tensorflow_datasets/imdb_reviews/subwords8k/1.0.0.incompleteKH1U62/imdb_reviews-test.tfrecord\n",
            "Shuffling and writing examples to /root/tensorflow_datasets/imdb_reviews/subwords8k/1.0.0.incompleteKH1U62/imdb_reviews-unsupervised.tfrecord\n",
            "\u001b[1mDataset imdb_reviews downloaded and prepared to /root/tensorflow_datasets/imdb_reviews/subwords8k/1.0.0. Subsequent calls will reuse this data.\u001b[0m\n"
          ],
          "name": "stdout"
        }
      ]
    },
    {
      "cell_type": "code",
      "metadata": {
        "id": "S8bTVHc-om2D",
        "colab_type": "code",
        "outputId": "851ea1c3-876d-4a86-c0e8-11492a0a0b3e",
        "colab": {
          "base_uri": "https://localhost:8080/",
          "height": 34
        }
      },
      "source": [
        "# get the encoder (tf.features.text.SubwordTextEncoder)\n",
        "encoder = info.features['text'].encoder\n",
        "# \n",
        "encoder.subwords[:5]"
      ],
      "execution_count": 0,
      "outputs": [
        {
          "output_type": "execute_result",
          "data": {
            "text/plain": [
              "['the_', ', ', '. ', 'a_', 'and_']"
            ]
          },
          "metadata": {
            "tags": []
          },
          "execution_count": 20
        }
      ]
    },
    {
      "cell_type": "code",
      "metadata": {
        "id": "oemRYhVXpB_n",
        "colab_type": "code",
        "outputId": "e716acc9-0305-4c71-8929-bee7667d1e4b",
        "colab": {
          "base_uri": "https://localhost:8080/",
          "height": 136
        }
      },
      "source": [
        "# Movie reviwes can be different lengths. 'padded_batch' moethod can standardize the lengths of the reviews.\n",
        "train_batches = train_data.shuffle(1000).padded_batch(10, padded_shapes=([None],[]))\n",
        "test_batches  = test_data.shuffle(1000).padded_batch(10, padded_shapes=([None],[]))\n",
        "# padded_shapes在tf2.2版本不再需要参数，默认所有扩大到该batch中最长。As follows\n",
        "train_batches = train_data.shuffle(1000).padded_batch(10)\n",
        "test_batches  = test_data.shuffle(1000).padded_batch(10)\n",
        "\n",
        "# have a look:\n",
        "train_batch, train_labels = next(iter(train_batches))\n",
        "train_batch.numpy()"
      ],
      "execution_count": 0,
      "outputs": [
        {
          "output_type": "execute_result",
          "data": {
            "text/plain": [
              "array([[7627,   20,  979, ...,    0,    0,    0],\n",
              "       [ 147,   14,   32, ...,    0,    0,    0],\n",
              "       [  62,   27,    9, ...,    0,    0,    0],\n",
              "       ...,\n",
              "       [  12,  176,  109, ..., 2595, 1155, 7975],\n",
              "       [5646,    2,   14, ...,    0,    0,    0],\n",
              "       [2883,  798,  968, ...,    0,    0,    0]])"
            ]
          },
          "metadata": {
            "tags": []
          },
          "execution_count": 24
        }
      ]
    },
    {
      "cell_type": "code",
      "metadata": {
        "id": "yVqdCwwTr10L",
        "colab_type": "code",
        "outputId": "b34c8334-cc71-40ee-faef-5b609573ca56",
        "colab": {
          "base_uri": "https://localhost:8080/",
          "height": 289
        }
      },
      "source": [
        "# Embedding layer takes the integer-encoded vocabulary and looks up the \n",
        "#     embedding vector for each word-index.\n",
        "# GlobalAveragePooling1D layer returns a fixed-length output vector for each \n",
        "#     example by averaging over the sequence dimension. \n",
        "#     (batch_size, steps, features) -> (batch_size, features): sum(all_features) / steps\n",
        "embedding_dim = 16\n",
        "model = keras.Sequential([\n",
        "  layers.Embedding(encoder.vocab_size, embedding_dim),\n",
        "  layers.GlobalAveragePooling1D(),\n",
        "  layers.Dense(16, activation='relu'),\n",
        "  layers.Dense(1)\n",
        "])\n",
        "model.summary()"
      ],
      "execution_count": 0,
      "outputs": [
        {
          "output_type": "stream",
          "text": [
            "Model: \"sequential_5\"\n",
            "_________________________________________________________________\n",
            "Layer (type)                 Output Shape              Param #   \n",
            "=================================================================\n",
            "embedding_9 (Embedding)      (None, None, 16)          130960    \n",
            "_________________________________________________________________\n",
            "global_average_pooling1d (Gl (None, 16)                0         \n",
            "_________________________________________________________________\n",
            "dense (Dense)                (None, 16)                272       \n",
            "_________________________________________________________________\n",
            "dense_1 (Dense)              (None, 1)                 17        \n",
            "=================================================================\n",
            "Total params: 131,249\n",
            "Trainable params: 131,249\n",
            "Non-trainable params: 0\n",
            "_________________________________________________________________\n"
          ],
          "name": "stdout"
        }
      ]
    },
    {
      "cell_type": "code",
      "metadata": {
        "id": "ORlBJjJnuIPR",
        "colab_type": "code",
        "outputId": "560220e4-6a82-4328-e36f-f22ea9e4453e",
        "colab": {
          "base_uri": "https://localhost:8080/",
          "height": 357
        }
      },
      "source": [
        "model.compile(optimizer='adam',\n",
        "              loss=tf.keras.losses.BinaryCrossentropy(from_logits=True),\n",
        "              metrics=['accuracy']\n",
        "              )\n",
        "history = model.fit(\n",
        "    train_batches,\n",
        "    epochs=10,\n",
        "    validation_data=test_batches, validation_steps=20\n",
        ")"
      ],
      "execution_count": 0,
      "outputs": [
        {
          "output_type": "stream",
          "text": [
            "Epoch 1/10\n",
            "2500/2500 [==============================] - 11s 4ms/step - loss: 0.5092 - accuracy: 0.7006 - val_loss: 0.3800 - val_accuracy: 0.8450\n",
            "Epoch 2/10\n",
            "2500/2500 [==============================] - 11s 4ms/step - loss: 0.2828 - accuracy: 0.8844 - val_loss: 0.3615 - val_accuracy: 0.8450\n",
            "Epoch 3/10\n",
            "2500/2500 [==============================] - 13s 5ms/step - loss: 0.2296 - accuracy: 0.9089 - val_loss: 0.3202 - val_accuracy: 0.8850\n",
            "Epoch 4/10\n",
            "2500/2500 [==============================] - 11s 4ms/step - loss: 0.1977 - accuracy: 0.9245 - val_loss: 0.4459 - val_accuracy: 0.8250\n",
            "Epoch 5/10\n",
            "2500/2500 [==============================] - 11s 4ms/step - loss: 0.1741 - accuracy: 0.9362 - val_loss: 0.4478 - val_accuracy: 0.8700\n",
            "Epoch 6/10\n",
            "2500/2500 [==============================] - 11s 4ms/step - loss: 0.1569 - accuracy: 0.9430 - val_loss: 0.5729 - val_accuracy: 0.8300\n",
            "Epoch 7/10\n",
            "2500/2500 [==============================] - 11s 4ms/step - loss: 0.1432 - accuracy: 0.9470 - val_loss: 0.3851 - val_accuracy: 0.8650\n",
            "Epoch 8/10\n",
            "2500/2500 [==============================] - 11s 4ms/step - loss: 0.1293 - accuracy: 0.9541 - val_loss: 0.6548 - val_accuracy: 0.8350\n",
            "Epoch 9/10\n",
            "2500/2500 [==============================] - 11s 4ms/step - loss: 0.1202 - accuracy: 0.9578 - val_loss: 0.4356 - val_accuracy: 0.8850\n",
            "Epoch 10/10\n",
            "2500/2500 [==============================] - 11s 4ms/step - loss: 0.1109 - accuracy: 0.9620 - val_loss: 0.3866 - val_accuracy: 0.8750\n"
          ],
          "name": "stdout"
        }
      ]
    },
    {
      "cell_type": "markdown",
      "metadata": {
        "id": "LGRvU9eGvaJO",
        "colab_type": "text"
      },
      "source": [
        "# Evaluation\n"
      ]
    },
    {
      "cell_type": "code",
      "metadata": {
        "id": "T_jJ1dl_vZPH",
        "colab_type": "code",
        "outputId": "5af78f20-d832-4699-9b52-a5d60cee5401",
        "colab": {
          "base_uri": "https://localhost:8080/",
          "height": 1000
        }
      },
      "source": [
        "import matplotlib.pyplot as plt\n",
        "\n",
        "history_dict = history.history\n",
        "\n",
        "acc = history_dict['accuracy']\n",
        "val_acc = history_dict['val_accuracy']\n",
        "loss=history_dict['loss']\n",
        "val_loss=history_dict['val_loss']\n",
        "\n",
        "epochs = range(1, len(acc) + 1)\n",
        "\n",
        "plt.figure(figsize=(12,9))\n",
        "plt.plot(epochs, loss, 'bo', label='Training loss')\n",
        "plt.plot(epochs, val_loss, 'b', label='Validation loss')\n",
        "plt.title('Training and validation loss')\n",
        "plt.xlabel('Epochs')\n",
        "plt.ylabel('Loss')\n",
        "plt.legend()\n",
        "plt.show()\n",
        "\n",
        "plt.figure(figsize=(12,9))\n",
        "plt.plot(epochs, acc, 'bo', label='Training acc')\n",
        "plt.plot(epochs, val_acc, 'b', label='Validation acc')\n",
        "plt.title('Training and validation accuracy')\n",
        "plt.xlabel('Epochs')\n",
        "plt.ylabel('Accuracy')\n",
        "plt.legend(loc='lower right')\n",
        "plt.ylim((0.5,1))\n",
        "plt.show()"
      ],
      "execution_count": 0,
      "outputs": [
        {
          "output_type": "display_data",
          "data": {
            "image/png": "[encoded data removed]",
            "text/plain": [
              "<Figure size 864x648 with 1 Axes>"
            ]
          },
          "metadata": {
            "tags": [],
            "needs_background": "light"
          }
        },
        {
          "output_type": "display_data",
          "data": {
            "image/png": "[encoded data removed]",
            "text/plain": [
              "<Figure size 864x648 with 1 Axes>"
            ]
          },
          "metadata": {
            "tags": [],
            "needs_background": "light"
          }
        }
      ]
    },
    {
      "cell_type": "markdown",
      "metadata": {
        "id": "ESs1HTaAvpzu",
        "colab_type": "text"
      },
      "source": [
        "# Retrive the learned embeddings.\n",
        "\n",
        "Next, let's retrive the word embeddings learned during training. This will be a matrix of shape (vovab_size, embedding-dimension).\n",
        "\n",
        "Then we will write the weights to disk. Use 'Embedding Projector'."
      ]
    },
    {
      "cell_type": "code",
      "metadata": {
        "id": "yaI-mxXyvpQS",
        "colab_type": "code",
        "outputId": "ce3e1082-92d3-43b2-a06b-3d94707223ed",
        "colab": {
          "base_uri": "https://localhost:8080/",
          "height": 34
        }
      },
      "source": [
        "e = model.layers[0]\n",
        "weights = e.get_weights()[0]\n",
        "print(weights.shape) # shape: (vocab_size, embedding_dim)"
      ],
      "execution_count": 0,
      "outputs": [
        {
          "output_type": "stream",
          "text": [
            "(8185, 16)\n"
          ],
          "name": "stdout"
        }
      ]
    },
    {
      "cell_type": "code",
      "metadata": {
        "id": "p9ihf2DOwWfs",
        "colab_type": "code",
        "colab": {}
      },
      "source": [
        "# We will now write the weights into disk. We will upload 2 files in tab\n",
        "# seperated format: a file of vectors (contains the embedding), and a file \n",
        "# of meta data (containing the words)\n",
        "import io\n",
        "\n",
        "encoder = info.features['text'].encoder\n",
        "\n",
        "out_v = io.open('vecs.tsv', 'w', encoding='utf-8')\n",
        "out_m = io.open('meta.tsv', 'w', encoding='utf-8')\n",
        "\n",
        "for num, word in enumerate(encoder.subwords):\n",
        "  vec = weights[num+1] # skip 0, it's padding.\n",
        "  out_m.write(word + \"\\n\")\n",
        "  out_v.write('\\t'.join([str(x) for x in vec]) + \"\\n\")\n",
        "out_v.close()\n",
        "out_m.close()"
      ],
      "execution_count": 0,
      "outputs": []
    },
    {
      "cell_type": "code",
      "metadata": {
        "id": "EB1Rfo92ygUw",
        "colab_type": "code",
        "colab": {}
      },
      "source": [
        "try:\n",
        "  from google.colab import files\n",
        "except ImportError:\n",
        "   pass\n",
        "else:\n",
        "  files.download('vecs.tsv')\n",
        "  files.download('meta.tsv')"
      ],
      "execution_count": 0,
      "outputs": []
    }
  ]
}