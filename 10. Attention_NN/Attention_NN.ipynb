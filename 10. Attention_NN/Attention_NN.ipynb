{
  "nbformat": 4,
  "nbformat_minor": 0,
  "metadata": {
    "colab": {
      "name": "Attention_NN.ipynb",
      "provenance": [],
      "collapsed_sections": []
    },
    "kernelspec": {
      "name": "python3",
      "display_name": "Python 3"
    },
    "accelerator": "GPU"
  },
  "cells": [
    {
      "cell_type": "markdown",
      "metadata": {
        "id": "Ff-CHHcjeuLF",
        "colab_type": "text"
      },
      "source": [
        "Bahdanau et al, 2015 \n",
        "Attention NN on machine translation"
      ]
    },
    {
      "cell_type": "code",
      "metadata": {
        "id": "j--TJMSHe0lu",
        "colab_type": "code",
        "colab": {}
      },
      "source": [
        "from __future__ import absolute_import, division, print_function, unicode_literals\n",
        "\n",
        "import tensorflow as tf\n",
        "\n",
        "import matplotlib.pyplot as plt\n",
        "import matplotlib.ticker as ticker\n",
        "from sklearn.model_selection import train_test_split\n",
        "\n",
        "import unicodedata\n",
        "import re\n",
        "import numpy as np\n",
        "import os\n",
        "import io\n",
        "import time"
      ],
      "execution_count": null,
      "outputs": []
    },
    {
      "cell_type": "markdown",
      "metadata": {
        "id": "jtkBSaHgfMnv",
        "colab_type": "text"
      },
      "source": [
        "# 数据集\n",
        "\n",
        "FROM： http://www.manythings.org/anki/\n",
        "\n",
        "数据预处理：\n",
        "\n"
      ]
    },
    {
      "cell_type": "code",
      "metadata": {
        "id": "zR1dJRLBfpNZ",
        "colab_type": "code",
        "colab": {
          "base_uri": "https://localhost:8080/",
          "height": 51
        },
        "outputId": "0475d4e9-3e89-42b5-a6a5-86b2da3acaa4"
      },
      "source": [
        "path_to_zip = tf.keras.utils.get_file(\n",
        "    'spa-eng.zip', origin='http://storage.googleapis.com/download.tensorflow.org/data/spa-eng.zip',\n",
        "    extract=True\n",
        ")\n",
        "\n",
        "path_to_file = os.path.dirname(path_to_zip) + \"/spa-eng/spa.txt\""
      ],
      "execution_count": null,
      "outputs": [
        {
          "output_type": "stream",
          "text": [
            "Downloading data from http://storage.googleapis.com/download.tensorflow.org/data/spa-eng.zip\n",
            "2646016/2638744 [==============================] - 0s 0us/step\n"
          ],
          "name": "stdout"
        }
      ]
    },
    {
      "cell_type": "code",
      "metadata": {
        "id": "9wfQ4w3Ehd41",
        "colab_type": "code",
        "colab": {}
      },
      "source": [
        "# 将 unicode 文件转化为 ascii\n",
        "def unicode_to_ascii(s):\n",
        "  return ''.join(c fro c in unicodedata.normalize('NFD', s) if unicodedata.category(c) != 'Mn')\n",
        "\n",
        "# 预处理：\n",
        "#\n",
        "def preprocess_sentence(w):\n",
        "  w = unicode_to_ascii(w.lower().strip())\n",
        "  # 1. strip 函数去除w前后的空格\n",
        "  \n",
        "  w = re.sub(r\"([?.!,¿])\", r\" \\1 \", w)\n",
        "  # 2. 在单词与跟在其后的标点符号之间插入一个空格\n",
        "  w = re.sub(r'[\" \"]+', \" \", w)\n",
        "  # 3. 重复的空格变为删除\n",
        "  w = re.sub(r\"[^a-zA-Z?.!,¿]+\", \" \", w)\n",
        "  # 4. 除了(a-z, A-Z, and 常用标点) 的其他字符替换为空格\n",
        "\n",
        "  # strip() 删除开头和结尾的空格\n",
        "  # rstrip 删除字符串右端的空格\n",
        "  w = w.rstrip().strip() # 和w.strip()有什么区别。\n",
        "  # 5. 删除多余空格\n",
        "\n",
        "  w = '<start> ' + w + '<end>'\n",
        "  # 6.  添加开始和结束标记\n",
        "  return w\n",
        "\n",
        "\n",
        "# 函数声明中使用的单个星号允许从调用环境传递可变数量的参数。 \n",
        "# 在函数内部，它的行为就像一个元组。\n",
        "# eg. zip(*wordpairs) 允许可变数量的参数\n",
        "def create_dataset(path, num_examples):\n",
        "  lines = io.open(path, encoding='UTF-8').read().strip().split('\\n')\n",
        "\n",
        "  word_pairs = [[preprocess_sentence(w) for w in l.split('\\t')] \n",
        "                for l in lines[:num_examples]]\n",
        "\n",
        "  return zip(*word_pairs)"
      ],
      "execution_count": null,
      "outputs": []
    },
    {
      "cell_type": "code",
      "metadata": {
        "id": "jo3yO9TQBw3k",
        "colab_type": "code",
        "colab": {}
      },
      "source": [
        "en, sp = create_dataset(path_to_file, None)\n",
        "print(en[-1])\n",
        "print(sp[-1])"
      ],
      "execution_count": null,
      "outputs": []
    },
    {
      "cell_type": "code",
      "metadata": {
        "id": "Abv4JDsUB5py",
        "colab_type": "code",
        "colab": {}
      },
      "source": [
        "def max_length(tensor):\n",
        "  # get maxlength for padding\n",
        "  return max(len(t) for t in tensor)\n",
        "\n",
        "\n",
        "def tokenize(lang):\n",
        "  lang_tokenizer = tf.keras.preprocessing.text.Tokenizer(filters='')\n",
        "  lang_tokenizer.fit_on_text(lang)\n",
        "\n",
        "  tensor = lang_tokenizer.texts_to_sequences(lang)\n",
        "  tensor = tf.keras.preprocessing.sequence.pad_sequences(tensor, padding='post')\n",
        "\n",
        "  return tensor, lang_tokenizer\n",
        "\n",
        "def load_dataset(path, num_examples=None):\n",
        "  # 输入输出对\n",
        "  targ_lang, inp_lang = create_dataset(path, num_examples)\n",
        "\n",
        "  input_tensor, inp_lang_tokenizer = tokenize(inp_lang)\n",
        "  target_tensor, targ_lang_tokenizer = tokenize(targ_lang)\n",
        "\n",
        "  return input_tensor, target_tensor, inp_lang_tokenizer, targ_lang_tokenizer"
      ],
      "execution_count": null,
      "outputs": []
    },
    {
      "cell_type": "code",
      "metadata": {
        "id": "mDLrjppND098",
        "colab_type": "code",
        "colab": {}
      },
      "source": [
        "# 创建一个tf.data 数据集\n"
      ],
      "execution_count": null,
      "outputs": []
    }
  ]
}