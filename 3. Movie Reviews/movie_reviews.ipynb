{
  "nbformat": 4,
  "nbformat_minor": 0,
  "metadata": {
    "colab": {
      "name": "movie reviews.ipynb",
      "provenance": [],
      "collapsed_sections": []
    },
    "kernelspec": {
      "name": "python3",
      "display_name": "Python 3"
    }
  },
  "cells": [
    {
      "cell_type": "markdown",
      "metadata": {
        "id": "KcI8DuueBUnr",
        "colab_type": "text"
      },
      "source": [
        "根据文字影评分析影评的主观性（积极/消极）——二元分类"
      ]
    },
    {
      "cell_type": "code",
      "metadata": {
        "id": "EFMagefbBI9g",
        "colab_type": "code",
        "colab": {
          "base_uri": "https://localhost:8080/",
          "height": 34
        },
        "outputId": "f1d33e10-627c-4fde-848c-c125a0e4cf26"
      },
      "source": [
        "from __future__ import absolute_import, division, print_function, unicode_literals\n",
        "\n",
        "import tensorflow as tf\n",
        "from tensorflow import keras\n",
        "\n",
        "import numpy as np\n",
        "\n",
        "print(tf.__version__)"
      ],
      "execution_count": 20,
      "outputs": [
        {
          "output_type": "stream",
          "text": [
            "2.2.0-rc4\n"
          ],
          "name": "stdout"
        }
      ]
    },
    {
      "cell_type": "code",
      "metadata": {
        "id": "dcZYXWmoBqQR",
        "colab_type": "code",
        "colab": {}
      },
      "source": [
        "# 下载IMDB数据集\n",
        "# 数据集已经预处理，单词序列被转化为整数序列，其中每个整数表示字典中的特定单词。\n",
        "\n",
        "imdb = keras.datasets.imdb\n",
        "# imdb.load(num_words) num_words参数保留了训练数据中最常见的10,000个单词。\n",
        "(train_data, train_labels), (test_data, test_labels) = imdb.load_data(num_words=10000)"
      ],
      "execution_count": 0,
      "outputs": []
    },
    {
      "cell_type": "code",
      "metadata": {
        "id": "k-ZdIJMACRwJ",
        "colab_type": "code",
        "colab": {
          "base_uri": "https://localhost:8080/",
          "height": 71
        },
        "outputId": "ebc0ac0b-b9b5-4484-e84a-90b896c1d731"
      },
      "source": [
        "# 数据的格式\n",
        "print(\"Train entries: {}, labels: {}\".format(len(train_data), len(train_labels)))\n",
        "\n",
        "print(train_data[0])"
      ],
      "execution_count": 22,
      "outputs": [
        {
          "output_type": "stream",
          "text": [
            "Train entries: 25000, labels: 25000\n",
            "[1, 14, 22, 16, 43, 530, 973, 1622, 1385, 65, 458, 4468, 66, 3941, 4, 173, 36, 256, 5, 25, 100, 43, 838, 112, 50, 670, 2, 9, 35, 480, 284, 5, 150, 4, 172, 112, 167, 2, 336, 385, 39, 4, 172, 4536, 1111, 17, 546, 38, 13, 447, 4, 192, 50, 16, 6, 147, 2025, 19, 14, 22, 4, 1920, 4613, 469, 4, 22, 71, 87, 12, 16, 43, 530, 38, 76, 15, 13, 1247, 4, 22, 17, 515, 17, 12, 16, 626, 18, 2, 5, 62, 386, 12, 8, 316, 8, 106, 5, 4, 2223, 5244, 16, 480, 66, 3785, 33, 4, 130, 12, 16, 38, 619, 5, 25, 124, 51, 36, 135, 48, 25, 1415, 33, 6, 22, 12, 215, 28, 77, 52, 5, 14, 407, 16, 82, 2, 8, 4, 107, 117, 5952, 15, 256, 4, 2, 7, 3766, 5, 723, 36, 71, 43, 530, 476, 26, 400, 317, 46, 7, 4, 2, 1029, 13, 104, 88, 4, 381, 15, 297, 98, 32, 2071, 56, 26, 141, 6, 194, 7486, 18, 4, 226, 22, 21, 134, 476, 26, 480, 5, 144, 30, 5535, 18, 51, 36, 28, 224, 92, 25, 104, 4, 226, 65, 16, 38, 1334, 88, 12, 16, 283, 5, 16, 4472, 113, 103, 32, 15, 16, 5345, 19, 178, 32]\n"
          ],
          "name": "stdout"
        }
      ]
    },
    {
      "cell_type": "markdown",
      "metadata": {
        "id": "1qFCRUW9DORX",
        "colab_type": "text"
      },
      "source": [
        "既然数据集已经预处理转化为数字，怎么查看数字对应的文本内容呢？"
      ]
    },
    {
      "cell_type": "code",
      "metadata": {
        "id": "YWCPL7VLDBuM",
        "colab_type": "code",
        "colab": {}
      },
      "source": [
        "# 将整数转换为数字\n",
        "\n",
        "# 一个映射单词到整数索引的词典\n",
        "word_index = imdb.get_word_index()\n",
        "\n",
        "# 保留第一个索引\n",
        "word_index = {k:(v+3) for k,v in word_index.items()}\n",
        "word_index[\"<PAD>\"] = 0\n",
        "word_index[\"<START>\"] = 1\n",
        "word_index[\"<UNK>\"] = 2  # unknown\n",
        "word_index[\"<UNUSED>\"] = 3\n",
        "\n",
        "reverse_word_index = dict([(value, key) for (key, value) in word_index.items()])\n",
        "\n",
        "# decode function: input int string return word string.\n",
        "def decode_review(text):\n",
        "    return ' '.join([reverse_word_index.get(i, '?') for i in text])"
      ],
      "execution_count": 0,
      "outputs": []
    },
    {
      "cell_type": "code",
      "metadata": {
        "id": "YnAONO0PEP16",
        "colab_type": "code",
        "colab": {
          "base_uri": "https://localhost:8080/",
          "height": 54
        },
        "outputId": "4f7e4f73-a532-4457-e65d-06637ba28584"
      },
      "source": [
        "decode_review(train_data[2])"
      ],
      "execution_count": 24,
      "outputs": [
        {
          "output_type": "execute_result",
          "data": {
            "text/plain": [
              "\"<START> this has to be one of the worst films of the 1990s when my friends i were watching this film being the target audience it was aimed at we just sat watched the first half an hour with our jaws touching the floor at how bad it really was the rest of the time everyone else in the theatre just started talking to each other leaving or generally crying into their popcorn that they actually paid money they had <UNK> working to watch this feeble excuse for a film it must have looked like a great idea on paper but on film it looks like no one in the film has a clue what is going on crap acting crap costumes i can't get across how <UNK> this is to watch save yourself an hour a bit of your life\""
            ]
          },
          "metadata": {
            "tags": []
          },
          "execution_count": 24
        }
      ]
    },
    {
      "cell_type": "markdown",
      "metadata": {
        "id": "huTP6J9qFEv9",
        "colab_type": "text"
      },
      "source": [
        "# 准备数据 （再次预处理） \n",
        "之前保存的整数数组，在输入神经网络之前必须转换为tensor,tutorial中提供两种方式：\n",
        "\n",
        "\n",
        "*   类似one-hot的向量，长度为10,000, 除了包含对应单词的位置为1，其余都为0。这个方法需要大量的内存，矩阵大小 10,000 * num_reviews\n",
        "*   填充数组，保证输入数据有相同的长度，创建一个大小为max_length * num_reviews 的整型张量。\n",
        "\n",
        "\n"
      ]
    },
    {
      "cell_type": "code",
      "metadata": {
        "id": "RF4cTT05GQ1x",
        "colab_type": "code",
        "colab": {
          "base_uri": "https://localhost:8080/",
          "height": 34
        },
        "outputId": "c820bd2f-59e5-4453-f5e5-37e3e17a834f"
      },
      "source": [
        "# 采用填充数组\n",
        "train_data = keras.preprocessing.sequence.pad_sequences(train_data,\n",
        "                                                        value=word_index[\"<PAD>\"],\n",
        "                                                        padding='post',\n",
        "                                                        maxlen=256)\n",
        "\n",
        "test_data = keras.preprocessing.sequence.pad_sequences(test_data,\n",
        "                                                       value=word_index[\"<PAD>\"],\n",
        "                                                       padding='post',\n",
        "                                                       maxlen=256)\n",
        "\n",
        "print()"
      ],
      "execution_count": 25,
      "outputs": [
        {
          "output_type": "stream",
          "text": [
            "\n"
          ],
          "name": "stdout"
        }
      ]
    },
    {
      "cell_type": "code",
      "metadata": {
        "id": "XnVvf84mG6WL",
        "colab_type": "code",
        "colab": {
          "base_uri": "https://localhost:8080/",
          "height": 68
        },
        "outputId": "eb6c75ca-3345-447f-9c30-5bcf0164ce76"
      },
      "source": [
        "# 采用pad_seuqences 让我产生了一个疑问：\n",
        "# Q:填充之后的数组，不同instance同一列的数字是否还代表着同一个单词？\n",
        "\n",
        "# A:首先回答是否定的，不同instance同一列的数字不再代表同一个单词，但是：\n",
        "# 与one-hot编码不同，one-hot编码是生成all_words 长度的数组，只有0和\n",
        "# 表示对应的位置有没有，但pad_squences将一个长度为num_samples的2D矩\n",
        "# 阵转化为(num_samples, maxlen)，且是Numpy，举例：\n",
        "sequence = [[1],[2,3],[4,5,6]]\n",
        "tf.keras.preprocessing.sequence.pad_sequences(sequence)"
      ],
      "execution_count": 26,
      "outputs": [
        {
          "output_type": "execute_result",
          "data": {
            "text/plain": [
              "array([[0, 0, 1],\n",
              "       [0, 2, 3],\n",
              "       [4, 5, 6]], dtype=int32)"
            ]
          },
          "metadata": {
            "tags": []
          },
          "execution_count": 26
        }
      ]
    },
    {
      "cell_type": "markdown",
      "metadata": {
        "id": "EcYrtXc-9L7y",
        "colab_type": "text"
      },
      "source": [
        "# 构建模型\n",
        "1. Embedding: 该层采用整数编码的词汇表，查找每个词汇索引的Embedding vector，这些向量是通过模型训练学习得到的。向量向输出数组增加了一个维度，的到的维度为：(batch, sequence,embedding),这里的embedding=16.\n",
        "2. GlobalAveragePooling1: 通过对序列维度求平均值来为每个样本返回一个fixed-length输出向量。 This allows the model to handle input of variable length, in the simplest way possible.\n",
        "3. 然后将fixed-length output vector输入到两层全连接网络中。\n",
        "\n",
        "\n",
        "# 但是Embedding是怎么用的？我还是不太懂。但是Embedding是怎么用的？\n"
      ]
    },
    {
      "cell_type": "code",
      "metadata": {
        "id": "e8urSQBiK3SV",
        "colab_type": "code",
        "colab": {
          "base_uri": "https://localhost:8080/",
          "height": 289
        },
        "outputId": "335ece08-d2a9-4847-dcd9-c2fb1df6aeb2"
      },
      "source": [
        "# 输入形状不用于训练，用于电影评论的词汇数目\n",
        "vocab_size = 10000\n",
        "\n",
        "model = keras.Sequential()\n",
        "model.add(keras.layers.Embedding(vocab_size, 16))\n",
        "model.add(keras.layers.GlobalAveragePooling1D())\n",
        "model.add(keras.layers.Dense(16, activation='relu'))\n",
        "model.add(keras.layers.Dense(1, activation='sigmoid'))\n",
        "\n",
        "model.summary()"
      ],
      "execution_count": 27,
      "outputs": [
        {
          "output_type": "stream",
          "text": [
            "Model: \"sequential_1\"\n",
            "_________________________________________________________________\n",
            "Layer (type)                 Output Shape              Param #   \n",
            "=================================================================\n",
            "embedding_1 (Embedding)      (None, None, 16)          160000    \n",
            "_________________________________________________________________\n",
            "global_average_pooling1d_1 ( (None, 16)                0         \n",
            "_________________________________________________________________\n",
            "dense_2 (Dense)              (None, 16)                272       \n",
            "_________________________________________________________________\n",
            "dense_3 (Dense)              (None, 1)                 17        \n",
            "=================================================================\n",
            "Total params: 160,289\n",
            "Trainable params: 160,289\n",
            "Non-trainable params: 0\n",
            "_________________________________________________________________\n"
          ],
          "name": "stdout"
        }
      ]
    },
    {
      "cell_type": "code",
      "metadata": {
        "id": "tv-BLJW9K4so",
        "colab_type": "code",
        "colab": {}
      },
      "source": [
        "# 选择损失函数，优化器\n",
        "\n",
        "model.compile(optimizer='adam', \n",
        "              loss='binary_crossentropy',\n",
        "              metrics=['accuracy'])"
      ],
      "execution_count": 0,
      "outputs": []
    },
    {
      "cell_type": "markdown",
      "metadata": {
        "id": "BTNtK5cOLX6s",
        "colab_type": "text"
      },
      "source": [
        "# 验证集\n",
        "\n",
        "在训练时，我们想要检查模型在从未见过的数据上的准确率，因此从原始训练数据中分离出10，000个样本来创建一个验证集。\n",
        "\n",
        "Q：为什么要有验证集？直接从测试集进行测试，训练集进行训练不可以吗？\n",
        "\n",
        "A：验证集要满足两件事：1.帮助训练模型 2. 不参与训练。验证集的目标只是使用训练数据来开发和调整模型。\n",
        "比如，我根据不同参数训练出不同的模型，根据验证集来选出了准确率最高的参数设计。然后再用这个模型去测试（个人理解）。"
      ]
    },
    {
      "cell_type": "code",
      "metadata": {
        "id": "qDhT5uTmNEZ9",
        "colab_type": "code",
        "colab": {}
      },
      "source": [
        "# 创建一个验证集\n",
        "x_val = train_data[:10000]\n",
        "partial_x_train = train_data[10000:]\n",
        "\n",
        "y_val = train_labels[:10000]\n",
        "partial_y_train = train_labels[10000:]\n"
      ],
      "execution_count": 0,
      "outputs": []
    },
    {
      "cell_type": "code",
      "metadata": {
        "id": "Cu5VPuIXNWcH",
        "colab_type": "code",
        "colab": {
          "base_uri": "https://localhost:8080/",
          "height": 34
        },
        "outputId": "8e40121f-7fbd-4e4b-bc6e-a01568bc9f7e"
      },
      "source": [
        "# example for train_data[:10000]\n",
        "list = [1,2,3,4,5,6,7,8,9,0]\n",
        "list1 = list[5:]\n",
        "list2 = list[:5]\n",
        "\n",
        "print(list1,list2)"
      ],
      "execution_count": 30,
      "outputs": [
        {
          "output_type": "stream",
          "text": [
            "[6, 7, 8, 9, 0] [1, 2, 3, 4, 5]\n"
          ],
          "name": "stdout"
        }
      ]
    },
    {
      "cell_type": "markdown",
      "metadata": {
        "id": "q6W4GdqsOWnn",
        "colab_type": "text"
      },
      "source": [
        "# 训练模型\n",
        "\n",
        "以512个样本的mini-batch大小迭代40个epoch来训练模型。"
      ]
    },
    {
      "cell_type": "code",
      "metadata": {
        "id": "6ny1kmljPMaH",
        "colab_type": "code",
        "colab": {
          "base_uri": "https://localhost:8080/",
          "height": 1000
        },
        "outputId": "b1317e35-e19a-4839-b761-2ec87b5514c1"
      },
      "source": [
        "# parameters:\n",
        "#   train_data :去除验证集的部分\n",
        "#   train_label :去除验证集的部分\n",
        "#   epochs\n",
        "#   batch_size: mini-batch\n",
        "#   validataion data: 验证集，上一步刚生成出来\n",
        "#   verbose: 显示格式\n",
        "train = model.fit(partial_x_train,\n",
        "                  partial_y_train,\n",
        "                  epochs=40,\n",
        "                  batch_size=512,\n",
        "                  validation_data=(x_val,y_val),\n",
        "                  verbose=1\n",
        ")"
      ],
      "execution_count": 31,
      "outputs": [
        {
          "output_type": "stream",
          "text": [
            "Epoch 1/40\n",
            "30/30 [==============================] - 1s 22ms/step - loss: 0.6919 - accuracy: 0.5951 - val_loss: 0.6898 - val_accuracy: 0.7208\n",
            "Epoch 2/40\n",
            "30/30 [==============================] - 1s 19ms/step - loss: 0.6860 - accuracy: 0.6535 - val_loss: 0.6819 - val_accuracy: 0.7337\n",
            "Epoch 3/40\n",
            "30/30 [==============================] - 1s 18ms/step - loss: 0.6736 - accuracy: 0.7499 - val_loss: 0.6661 - val_accuracy: 0.7544\n",
            "Epoch 4/40\n",
            "30/30 [==============================] - 1s 18ms/step - loss: 0.6509 - accuracy: 0.7769 - val_loss: 0.6397 - val_accuracy: 0.7726\n",
            "Epoch 5/40\n",
            "30/30 [==============================] - 1s 18ms/step - loss: 0.6166 - accuracy: 0.7947 - val_loss: 0.6034 - val_accuracy: 0.7881\n",
            "Epoch 6/40\n",
            "30/30 [==============================] - 1s 19ms/step - loss: 0.5725 - accuracy: 0.8145 - val_loss: 0.5603 - val_accuracy: 0.8041\n",
            "Epoch 7/40\n",
            "30/30 [==============================] - 1s 18ms/step - loss: 0.5229 - accuracy: 0.8320 - val_loss: 0.5141 - val_accuracy: 0.8219\n",
            "Epoch 8/40\n",
            "30/30 [==============================] - 1s 19ms/step - loss: 0.4732 - accuracy: 0.8475 - val_loss: 0.4712 - val_accuracy: 0.8341\n",
            "Epoch 9/40\n",
            "30/30 [==============================] - 1s 18ms/step - loss: 0.4277 - accuracy: 0.8619 - val_loss: 0.4339 - val_accuracy: 0.8450\n",
            "Epoch 10/40\n",
            "30/30 [==============================] - 1s 18ms/step - loss: 0.3885 - accuracy: 0.8745 - val_loss: 0.4030 - val_accuracy: 0.8533\n",
            "Epoch 11/40\n",
            "30/30 [==============================] - 1s 18ms/step - loss: 0.3561 - accuracy: 0.8825 - val_loss: 0.3799 - val_accuracy: 0.8604\n",
            "Epoch 12/40\n",
            "30/30 [==============================] - 1s 18ms/step - loss: 0.3287 - accuracy: 0.8894 - val_loss: 0.3596 - val_accuracy: 0.8650\n",
            "Epoch 13/40\n",
            "30/30 [==============================] - 1s 18ms/step - loss: 0.3060 - accuracy: 0.8960 - val_loss: 0.3443 - val_accuracy: 0.8690\n",
            "Epoch 14/40\n",
            "30/30 [==============================] - 1s 19ms/step - loss: 0.2863 - accuracy: 0.9013 - val_loss: 0.3321 - val_accuracy: 0.8711\n",
            "Epoch 15/40\n",
            "30/30 [==============================] - 1s 19ms/step - loss: 0.2694 - accuracy: 0.9072 - val_loss: 0.3219 - val_accuracy: 0.8755\n",
            "Epoch 16/40\n",
            "30/30 [==============================] - 1s 19ms/step - loss: 0.2542 - accuracy: 0.9119 - val_loss: 0.3140 - val_accuracy: 0.8772\n",
            "Epoch 17/40\n",
            "30/30 [==============================] - 1s 19ms/step - loss: 0.2406 - accuracy: 0.9168 - val_loss: 0.3071 - val_accuracy: 0.8799\n",
            "Epoch 18/40\n",
            "30/30 [==============================] - 1s 18ms/step - loss: 0.2288 - accuracy: 0.9213 - val_loss: 0.3035 - val_accuracy: 0.8799\n",
            "Epoch 19/40\n",
            "30/30 [==============================] - 1s 19ms/step - loss: 0.2174 - accuracy: 0.9239 - val_loss: 0.2977 - val_accuracy: 0.8824\n",
            "Epoch 20/40\n",
            "30/30 [==============================] - 1s 19ms/step - loss: 0.2069 - accuracy: 0.9285 - val_loss: 0.2936 - val_accuracy: 0.8838\n",
            "Epoch 21/40\n",
            "30/30 [==============================] - 1s 18ms/step - loss: 0.1972 - accuracy: 0.9323 - val_loss: 0.2915 - val_accuracy: 0.8828\n",
            "Epoch 22/40\n",
            "30/30 [==============================] - 1s 18ms/step - loss: 0.1881 - accuracy: 0.9363 - val_loss: 0.2887 - val_accuracy: 0.8845\n",
            "Epoch 23/40\n",
            "30/30 [==============================] - 1s 18ms/step - loss: 0.1799 - accuracy: 0.9420 - val_loss: 0.2872 - val_accuracy: 0.8842\n",
            "Epoch 24/40\n",
            "30/30 [==============================] - 1s 19ms/step - loss: 0.1719 - accuracy: 0.9437 - val_loss: 0.2862 - val_accuracy: 0.8845\n",
            "Epoch 25/40\n",
            "30/30 [==============================] - 1s 19ms/step - loss: 0.1646 - accuracy: 0.9473 - val_loss: 0.2863 - val_accuracy: 0.8853\n",
            "Epoch 26/40\n",
            "30/30 [==============================] - 1s 20ms/step - loss: 0.1579 - accuracy: 0.9503 - val_loss: 0.2868 - val_accuracy: 0.8829\n",
            "Epoch 27/40\n",
            "30/30 [==============================] - 1s 19ms/step - loss: 0.1516 - accuracy: 0.9529 - val_loss: 0.2863 - val_accuracy: 0.8863\n",
            "Epoch 28/40\n",
            "30/30 [==============================] - 1s 19ms/step - loss: 0.1451 - accuracy: 0.9559 - val_loss: 0.2871 - val_accuracy: 0.8850\n",
            "Epoch 29/40\n",
            "30/30 [==============================] - 1s 20ms/step - loss: 0.1392 - accuracy: 0.9578 - val_loss: 0.2882 - val_accuracy: 0.8860\n",
            "Epoch 30/40\n",
            "30/30 [==============================] - 1s 19ms/step - loss: 0.1333 - accuracy: 0.9609 - val_loss: 0.2887 - val_accuracy: 0.8852\n",
            "Epoch 31/40\n",
            "30/30 [==============================] - 1s 21ms/step - loss: 0.1281 - accuracy: 0.9625 - val_loss: 0.2905 - val_accuracy: 0.8862\n",
            "Epoch 32/40\n",
            "30/30 [==============================] - 1s 20ms/step - loss: 0.1228 - accuracy: 0.9652 - val_loss: 0.2924 - val_accuracy: 0.8851\n",
            "Epoch 33/40\n",
            "30/30 [==============================] - 1s 20ms/step - loss: 0.1181 - accuracy: 0.9666 - val_loss: 0.2964 - val_accuracy: 0.8825\n",
            "Epoch 34/40\n",
            "30/30 [==============================] - 1s 20ms/step - loss: 0.1136 - accuracy: 0.9677 - val_loss: 0.2978 - val_accuracy: 0.8843\n",
            "Epoch 35/40\n",
            "30/30 [==============================] - 1s 20ms/step - loss: 0.1092 - accuracy: 0.9693 - val_loss: 0.2991 - val_accuracy: 0.8835\n",
            "Epoch 36/40\n",
            "30/30 [==============================] - 1s 20ms/step - loss: 0.1050 - accuracy: 0.9716 - val_loss: 0.3019 - val_accuracy: 0.8836\n",
            "Epoch 37/40\n",
            "30/30 [==============================] - 1s 20ms/step - loss: 0.1009 - accuracy: 0.9727 - val_loss: 0.3055 - val_accuracy: 0.8827\n",
            "Epoch 38/40\n",
            "30/30 [==============================] - 1s 20ms/step - loss: 0.0969 - accuracy: 0.9747 - val_loss: 0.3079 - val_accuracy: 0.8830\n",
            "Epoch 39/40\n",
            "30/30 [==============================] - 1s 20ms/step - loss: 0.0931 - accuracy: 0.9759 - val_loss: 0.3119 - val_accuracy: 0.8819\n",
            "Epoch 40/40\n",
            "30/30 [==============================] - 1s 19ms/step - loss: 0.0895 - accuracy: 0.9776 - val_loss: 0.3149 - val_accuracy: 0.8820\n"
          ],
          "name": "stdout"
        }
      ]
    },
    {
      "cell_type": "markdown",
      "metadata": {
        "id": "y8VDEfroQeg6",
        "colab_type": "text"
      },
      "source": [
        "# 评估模型\n",
        "res = model.evaluate(test_data,test_label, verbose=2)\n",
        "\n",
        "res包含loss 和 accuracy."
      ]
    },
    {
      "cell_type": "code",
      "metadata": {
        "id": "1u8lgLS8P-Pk",
        "colab_type": "code",
        "colab": {
          "base_uri": "https://localhost:8080/",
          "height": 51
        },
        "outputId": "a504c07b-c654-46cf-a277-1a6e9c50906e"
      },
      "source": [
        "res = model.evaluate(test_data, test_labels, verbose=2)\n",
        "print(res)"
      ],
      "execution_count": 32,
      "outputs": [
        {
          "output_type": "stream",
          "text": [
            "782/782 - 1s - loss: 0.3357 - accuracy: 0.8712\n",
            "[0.3356992304325104, 0.8712000250816345]\n"
          ],
          "name": "stdout"
        }
      ]
    },
    {
      "cell_type": "markdown",
      "metadata": {
        "id": "NHwMC5i7RGCF",
        "colab_type": "text"
      },
      "source": [
        "# 创建一个accuracy和loss随时间(epochs)变化的图表\n",
        "model.fit函数返回了一个history对象，（命名为train），该对象包含一个字典，其中包含训练阶段所发生的一切事件："
      ]
    },
    {
      "cell_type": "code",
      "metadata": {
        "id": "B4aEGN05RdSS",
        "colab_type": "code",
        "colab": {
          "base_uri": "https://localhost:8080/",
          "height": 34
        },
        "outputId": "2fcb4931-bc35-4f12-d8ad-ec8f48841ca4"
      },
      "source": [
        "history_dict = train.history\n",
        "history_dict.keys()"
      ],
      "execution_count": 33,
      "outputs": [
        {
          "output_type": "execute_result",
          "data": {
            "text/plain": [
              "dict_keys(['loss', 'accuracy', 'val_loss', 'val_accuracy'])"
            ]
          },
          "metadata": {
            "tags": []
          },
          "execution_count": 33
        }
      ]
    },
    {
      "cell_type": "code",
      "metadata": {
        "id": "ytd4-ue1R17I",
        "colab_type": "code",
        "colab": {
          "base_uri": "https://localhost:8080/",
          "height": 295
        },
        "outputId": "48c82e8f-59ac-4873-910b-25cd57b73c5d"
      },
      "source": [
        "import matplotlib.pyplot as plt\n",
        "\n",
        "acc = history_dict['accuracy']\n",
        "val_acc = history_dict['val_accuracy']\n",
        "loss = history_dict['loss']\n",
        "val_loss = history_dict['val_loss']\n",
        "\n",
        "epochs = range(1, len(acc)+1)\n",
        "\n",
        "# “bo”代表 \"蓝点\"\n",
        "plt.plot(epochs, loss, 'bo', label='Training loss')\n",
        "# b代表“蓝色实线”\n",
        "plt.plot(epochs, val_loss, 'b', label='Validation loss')\n",
        "plt.title('Training and validation loss')\n",
        "plt.xlabel('Epochs')\n",
        "plt.ylabel('Loss')\n",
        "plt.legend()\n",
        "\n",
        "plt.show()"
      ],
      "execution_count": 34,
      "outputs": [
        {
          "output_type": "display_data",
          "data": {
            "image/png": "[encoded data removed]",
            "text/plain": [
              "<Figure size 432x288 with 1 Axes>"
            ]
          },
          "metadata": {
            "tags": [],
            "needs_background": "light"
          }
        }
      ]
    },
    {
      "cell_type": "code",
      "metadata": {
        "id": "5Mp8uMvMSkdu",
        "colab_type": "code",
        "colab": {
          "base_uri": "https://localhost:8080/",
          "height": 295
        },
        "outputId": "a5ce147c-bc59-43f8-ff2b-bfaff07b0dc7"
      },
      "source": [
        "plt.plot(epochs, acc, 'bo', label='Training acc')\n",
        "plt.plot(epochs, val_acc, 'b', label='Validation acc')\n",
        "plt.title('Training and validation accuracy')\n",
        "plt.xlabel('Epochs')\n",
        "plt.ylabel('Accuracy')\n",
        "plt.legend()\n",
        "\n",
        "plt.show()"
      ],
      "execution_count": 35,
      "outputs": [
        {
          "output_type": "display_data",
          "data": {
            "image/png": "[encoded data removed]",
            "text/plain": [
              "<Figure size 432x288 with 1 Axes>"
            ]
          },
          "metadata": {
            "tags": [],
            "needs_background": "light"
          }
        }
      ]
    },
    {
      "cell_type": "markdown",
      "metadata": {
        "id": "ayKOq41USpS1",
        "colab_type": "text"
      },
      "source": [
        "# Summary:\n",
        "单从问题来看，这是一个很简单的二分类问题，特别的地方主要在于验证集调用，以及embedding method."
      ]
    }
  ]
}