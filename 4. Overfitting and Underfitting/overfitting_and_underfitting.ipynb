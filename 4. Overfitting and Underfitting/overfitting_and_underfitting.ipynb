{
  "nbformat": 4,
  "nbformat_minor": 0,
  "metadata": {
    "colab": {
      "name": "overfitting and underfitting.ipynb",
      "provenance": [],
      "collapsed_sections": []
    },
    "kernelspec": {
      "name": "python3",
      "display_name": "Python 3"
    }
  },
  "cells": [
    {
      "cell_type": "markdown",
      "metadata": {
        "id": "ISxZJ-qQ4yUy",
        "colab_type": "text"
      },
      "source": [
        "# 如何解决overfitting？\n",
        "1. more complete training data (not always possible).\n",
        "2. techniques like regularization. \n",
        "\n",
        "So, in this file we will introduce some common regularition techniques."
      ]
    },
    {
      "cell_type": "code",
      "metadata": {
        "id": "4PJHeNTX5eSC",
        "colab_type": "code",
        "colab": {
          "base_uri": "https://localhost:8080/",
          "height": 51
        },
        "outputId": "098aac18-4445-49f8-db6a-7b657c9f7ece"
      },
      "source": [
        "import tensorflow as tf\n",
        "# regularition from keras\n",
        "from tensorflow.keras import layers\n",
        "from tensorflow.keras import regularizers\n",
        "\n",
        "print(tf.__version__)\n",
        "\n",
        "!pip install -q git+https://github.com/tensorflow/docs\n",
        "\n",
        "import tensorflow_docs as tfdocs\n",
        "import tensorflow_docs.modeling\n",
        "import tensorflow_docs.plots\n",
        "\n",
        "from  IPython import display\n",
        "from matplotlib import pyplot as plt\n",
        "\n",
        "import numpy as np\n",
        "\n",
        "import pathlib\n",
        "import shutil\n",
        "import tempfile\n",
        "\n",
        "logdir = pathlib.Path(tempfile.mkdtemp())/\"tensorboard_logs\"\n",
        "# wtf? why delete a directory tree? \n",
        "shutil.rmtree(logdir, ignore_errors=True)"
      ],
      "execution_count": 2,
      "outputs": [
        {
          "output_type": "stream",
          "text": [
            "2.2.0-rc4\n",
            "  Building wheel for tensorflow-docs (setup.py) ... \u001b[?25l\u001b[?25hdone\n"
          ],
          "name": "stdout"
        }
      ]
    },
    {
      "cell_type": "code",
      "metadata": {
        "id": "1YUzeNbh5lKk",
        "colab_type": "code",
        "colab": {
          "base_uri": "https://localhost:8080/",
          "height": 51
        },
        "outputId": "6b88ffdc-a641-4fb7-8df4-d80723496c41"
      },
      "source": [
        "# download dataset: Higgs Dataset: \n",
        "# size: 11,000,000 instances\n",
        "#       28         features\n",
        "#       binary     labels\n",
        "gz = tf.keras.utils.get_file('HIGGS.csv.gz', 'http://mlphysics.ics.uci.edu/data/higgs/HIGGS.csv.gz')\n",
        "FEATURES = 28"
      ],
      "execution_count": 3,
      "outputs": [
        {
          "output_type": "stream",
          "text": [
            "Downloading data from http://mlphysics.ics.uci.edu/data/higgs/HIGGS.csv.gz\n",
            "2816409600/2816407858 [==============================] - 48s 0us/step\n"
          ],
          "name": "stdout"
        }
      ]
    },
    {
      "cell_type": "code",
      "metadata": {
        "id": "73smprYv7u0e",
        "colab_type": "code",
        "colab": {}
      },
      "source": [
        "# CsvDataset can be used to read csv records directly from a gzip file with no intermediate decompression step.\n",
        "ds = tf.data.experimental.CsvDataset(gz,[float(),]*(FEATURES+1), compression_type=\"GZIP\")"
      ],
      "execution_count": 0,
      "outputs": []
    },
    {
      "cell_type": "code",
      "metadata": {
        "id": "baPG8gEl8hjO",
        "colab_type": "code",
        "colab": {}
      },
      "source": [
        "# That csv reader class returns a list of scalars for each record. \n",
        "# The following function repacks that list of scalars into a (feature_vector, label) pair.\n",
        "def pack_row(*row):\n",
        "  label = row[0]\n",
        "  features = tf.stack(row[1:],1)\n",
        "  return features, label"
      ],
      "execution_count": 0,
      "outputs": []
    },
    {
      "cell_type": "markdown",
      "metadata": {
        "id": "aqJyIe6U87Je",
        "colab_type": "text"
      },
      "source": [
        "Tensorflow 在处理大规模的batch时候效率很高。\n",
        "\n",
        "所以可以直接从大型batch上调用pack_row function，这样效率比一条条调用pack_row要快。\n"
      ]
    },
    {
      "cell_type": "code",
      "metadata": {
        "id": "z35WLkPY9O0g",
        "colab_type": "code",
        "colab": {}
      },
      "source": [
        "packed_ds = ds.batch(10000).map(pack_row).unbatch()"
      ],
      "execution_count": 0,
      "outputs": []
    },
    {
      "cell_type": "markdown",
      "metadata": {
        "id": "aO9cWS0t9wZp",
        "colab_type": "text"
      },
      "source": [
        "packed_ds 就是一个feature list + label的组合\n",
        "（feature_list, label） where feature_list contains 28 feature scalars."
      ]
    },
    {
      "cell_type": "code",
      "metadata": {
        "id": "V-tyNLHp9qDv",
        "colab_type": "code",
        "colab": {
          "base_uri": "https://localhost:8080/",
          "height": 367
        },
        "outputId": "1b38a0e7-f470-4617-d172-5785a09ed869"
      },
      "source": [
        "# 展示第一条数据的内容\n",
        "for features,label in packed_ds.batch(1000).take(1):\n",
        "  print(features[0])\n",
        "  plt.hist(features.numpy().flatten(), bins = 101)"
      ],
      "execution_count": 8,
      "outputs": [
        {
          "output_type": "stream",
          "text": [
            "tf.Tensor(\n",
            "[ 0.8692932  -0.6350818   0.22569026  0.32747006 -0.6899932   0.75420225\n",
            " -0.24857314 -1.0920639   0.          1.3749921  -0.6536742   0.9303491\n",
            "  1.1074361   1.1389043  -1.5781983  -1.0469854   0.          0.65792954\n",
            " -0.01045457 -0.04576717  3.1019614   1.35376     0.9795631   0.97807616\n",
            "  0.92000484  0.72165745  0.98875093  0.87667835], shape=(28,), dtype=float32)\n"
          ],
          "name": "stdout"
        },
        {
          "output_type": "display_data",
          "data": {
            "image/png": "[encoded data removed]",
            "text/plain": [
              "<Figure size 432x288 with 1 Axes>"
            ]
          },
          "metadata": {
            "tags": [],
            "needs_background": "light"
          }
        }
      ]
    },
    {
      "cell_type": "code",
      "metadata": {
        "id": "dxtmIyxQ-Tbn",
        "colab_type": "code",
        "colab": {}
      },
      "source": [
        "# 前1000作为验证集，接下来10 000做训练集\n",
        "N_VALIDATION = int(1e3)\n",
        "N_TRAIN = int(1e4)\n",
        "BUFFER_SIZE = int(1e4)\n",
        "BATCH_SIZE = 500\n",
        "# 这个Step—per-epoch是 训练集数量/batch size，它有什么用？\n",
        "STEPS_PER_EPOCH = N_TRAIN//BATCH_SIZE\n",
        "\n",
        "# Dataset.take, Dataset.skip \n",
        "validate_ds = packed_ds.take(N_VALIDATION).cache()\n",
        "train_ds = packed_ds.skip(N_VALIDATION).take(N_TRAIN).cache()\n",
        "\n",
        "validate_ds = validate_ds.batch(BATCH_SIZE)\n",
        "train_ds = train_ds.shuffle(BUFFER_SIZE).repeat().batch(BATCH_SIZE)\n"
      ],
      "execution_count": 0,
      "outputs": []
    },
    {
      "cell_type": "markdown",
      "metadata": {
        "id": "NQhQftfi-4Wu",
        "colab_type": "text"
      },
      "source": [
        "在深度学习中，一个模型中被用来学习的参数（可以通过训练修改的参数）被称为‘capacity’（容量）。\n",
        "从小参数数量模型开始训练是避免过拟合不错的办法。\n",
        "\n",
        "# Training Procedure"
      ]
    },
    {
      "cell_type": "code",
      "metadata": {
        "id": "DpaXnVEy_pNl",
        "colab_type": "code",
        "colab": {}
      },
      "source": [
        "# We can use 'optimizers.schedules' to reduce the learning rate over time.\n",
        "# ***** 可算知道怎么随着训练降低learning rate了\n",
        "lr_schedule = tf.keras.optimizers.schedules.InverseTimeDecay(\n",
        "    0.001,\n",
        "    #  \n",
        "    decay_steps = STEPS_PER_EPOCH * 1000,\n",
        "    decay_rate = 1,\n",
        "    staircase = False\n",
        ")\n",
        "\n",
        "def get_optimizer():\n",
        "  return tf.keras.optimizers.Adam(lr_schedule)"
      ],
      "execution_count": 0,
      "outputs": []
    },
    {
      "cell_type": "code",
      "metadata": {
        "id": "ScRysw-DCyby",
        "colab_type": "code",
        "colab": {
          "base_uri": "https://localhost:8080/",
          "height": 388
        },
        "outputId": "3dfafaa2-620c-43b4-f258-5e9b503f9529"
      },
      "source": [
        "# show the learning relationship between the epochs and learning rate.\n",
        "step = np.linspace(0,100000)\n",
        "lr = lr_schedule(step)\n",
        "plt.figure(figsize = (8,6))\n",
        "plt.plot(step/STEPS_PER_EPOCH, lr)\n",
        "plt.ylim([0,max(plt.ylim())])\n",
        "plt.xlabel('Epoch')\n",
        "_ = plt.ylabel('Learning Rate')\n"
      ],
      "execution_count": 13,
      "outputs": [
        {
          "output_type": "display_data",
          "data": {
            "image/png": "[encoded data removed]",
            "text/plain": [
              "<Figure size 576x432 with 1 Axes>"
            ]
          },
          "metadata": {
            "tags": [],
            "needs_background": "light"
          }
        }
      ]
    },
    {
      "cell_type": "code",
      "metadata": {
        "id": "AvNMrHXVDM3F",
        "colab_type": "code",
        "colab": {}
      },
      "source": [
        "# callback? contains some training configuration. \n",
        "\n",
        "def get_callbacks(name):\n",
        "  return [\n",
        "    tfdocs.modeling.EpochDots(),\n",
        "    tf.keras.callbacks.EarlyStopping(monitor='val_binary_crossentropy', patience=200),\n",
        "    tf.keras.callbacks.TensorBoard(logdir/name),\n",
        "  ]"
      ],
      "execution_count": 0,
      "outputs": []
    },
    {
      "cell_type": "markdown",
      "metadata": {
        "id": "fWhn1klXFNS7",
        "colab_type": "text"
      },
      "source": [
        "1. EpochDots：\n",
        "  The training runs for many short epochs. To reduce the logging noise use the tfdocs.EpochDots which simply prints a . for each epoch, and a full set of metrics every 100 epochs.\n",
        "2. callbacks.EarlyStopping avoids long and unnecessary training times. \n",
        "3. Use callbacks.TensorBoard to generate TensorBoard logs for the training.\n"
      ]
    },
    {
      "cell_type": "code",
      "metadata": {
        "id": "pqDYQX30E6Jm",
        "colab_type": "code",
        "colab": {}
      },
      "source": [
        "# model configuration\n",
        "def compile_and_fit(model, name, optimizer=None, max_epochs=10000):\n",
        "  if optimizer is None:\n",
        "    optimizer = get_optimizer()\n",
        "  model.compile(optimizer=optimizer,\n",
        "                loss=tf.keras.losses.BinaryCrossentropy(from_logits=True),\n",
        "                metrics=[\n",
        "                  tf.keras.losses.BinaryCrossentropy(\n",
        "                      from_logits=True, name='binary_crossentropy'),\n",
        "                  'accuracy'])\n",
        "\n",
        "  model.summary()\n",
        "\n",
        "  history = model.fit(\n",
        "    train_ds,\n",
        "    steps_per_epoch = STEPS_PER_EPOCH,\n",
        "    epochs=max_epochs,\n",
        "    validation_data=validate_ds,\n",
        "    callbacks=get_callbacks(name),\n",
        "    verbose=0)\n",
        "  return history"
      ],
      "execution_count": 0,
      "outputs": []
    },
    {
      "cell_type": "markdown",
      "metadata": {
        "id": "Oc4yxNsJIEBL",
        "colab_type": "text"
      },
      "source": [
        "# 从小到大规模训练模型"
      ]
    },
    {
      "cell_type": "code",
      "metadata": {
        "id": "tENRSYFHIBqM",
        "colab_type": "code",
        "colab": {
          "base_uri": "https://localhost:8080/",
          "height": 612
        },
        "outputId": "c6ef9dc6-35c4-4dc1-9052-9f547e5cca6b"
      },
      "source": [
        "tiny_model = tf.keras.Sequential([\n",
        "    layers.Dense(16, activation='elu', input_shape=(FEATURES,)),\n",
        "    layers.Dense(1)\n",
        "])\n",
        "# size_histories is a dictionary.\n",
        "size_histories = {}\n",
        "size_histories['Tiny'] = compile_and_fit(tiny_model, 'sizes/Tiny')"
      ],
      "execution_count": 26,
      "outputs": [
        {
          "output_type": "stream",
          "text": [
            "Model: \"sequential_4\"\n",
            "_________________________________________________________________\n",
            "Layer (type)                 Output Shape              Param #   \n",
            "=================================================================\n",
            "dense_9 (Dense)              (None, 16)                464       \n",
            "_________________________________________________________________\n",
            "dense_10 (Dense)             (None, 1)                 17        \n",
            "=================================================================\n",
            "Total params: 481\n",
            "Trainable params: 481\n",
            "Non-trainable params: 0\n",
            "_________________________________________________________________\n",
            "\n",
            "Epoch: 0, accuracy:0.4846,  binary_crossentropy:0.8263,  loss:0.8263,  val_accuracy:0.4700,  val_binary_crossentropy:0.7830,  val_loss:0.7830,  \n",
            "....................................................................................................\n",
            "Epoch: 100, accuracy:0.5934,  binary_crossentropy:0.6293,  loss:0.6293,  val_accuracy:0.5660,  val_binary_crossentropy:0.6363,  val_loss:0.6363,  \n",
            "....................................................................................................\n",
            "Epoch: 200, accuracy:0.6232,  binary_crossentropy:0.6102,  loss:0.6102,  val_accuracy:0.6220,  val_binary_crossentropy:0.6075,  val_loss:0.6075,  \n",
            "....................................................................................................\n",
            "Epoch: 300, accuracy:0.6520,  binary_crossentropy:0.5973,  loss:0.5973,  val_accuracy:0.6590,  val_binary_crossentropy:0.5934,  val_loss:0.5934,  \n",
            "....................................................................................................\n",
            "Epoch: 400, accuracy:0.6574,  binary_crossentropy:0.5907,  loss:0.5907,  val_accuracy:0.6760,  val_binary_crossentropy:0.5893,  val_loss:0.5893,  \n",
            "....................................................................................................\n",
            "Epoch: 500, accuracy:0.6671,  binary_crossentropy:0.5865,  loss:0.5865,  val_accuracy:0.6600,  val_binary_crossentropy:0.5881,  val_loss:0.5881,  \n",
            "....................................................................................................\n",
            "Epoch: 600, accuracy:0.6715,  binary_crossentropy:0.5837,  loss:0.5837,  val_accuracy:0.6680,  val_binary_crossentropy:0.5861,  val_loss:0.5861,  \n",
            "....................................................................................................\n",
            "Epoch: 700, accuracy:0.6739,  binary_crossentropy:0.5804,  loss:0.5804,  val_accuracy:0.6660,  val_binary_crossentropy:0.5868,  val_loss:0.5868,  \n",
            "....................................................................................................\n",
            "Epoch: 800, accuracy:0.6753,  binary_crossentropy:0.5784,  loss:0.5784,  val_accuracy:0.6800,  val_binary_crossentropy:0.5852,  val_loss:0.5852,  \n",
            "....................................................................................................\n",
            "Epoch: 900, accuracy:0.6812,  binary_crossentropy:0.5768,  loss:0.5768,  val_accuracy:0.6630,  val_binary_crossentropy:0.5862,  val_loss:0.5862,  \n",
            "....................................................................................................\n",
            "Epoch: 1000, accuracy:0.6788,  binary_crossentropy:0.5752,  loss:0.5752,  val_accuracy:0.6730,  val_binary_crossentropy:0.5858,  val_loss:0.5858,  \n",
            "............................"
          ],
          "name": "stdout"
        }
      ]
    },
    {
      "cell_type": "code",
      "metadata": {
        "id": "6xqNqnrgJf3E",
        "colab_type": "code",
        "colab": {
          "base_uri": "https://localhost:8080/",
          "height": 300
        },
        "outputId": "f4f5f59d-6a07-481b-da7a-9ef6b979c144"
      },
      "source": [
        "plotter = tfdocs.plots.HistoryPlotter(metric = 'binary_crossentropy', smoothing_std=10)\n",
        "plotter.plot(size_histories)\n",
        "plt.ylim([0.5, 0.7])"
      ],
      "execution_count": 24,
      "outputs": [
        {
          "output_type": "execute_result",
          "data": {
            "text/plain": [
              "(0.5, 0.7)"
            ]
          },
          "metadata": {
            "tags": []
          },
          "execution_count": 24
        },
        {
          "output_type": "display_data",
          "data": {
            "image/png": "[encoded data removed]",
            "text/plain": [
              "<Figure size 432x288 with 1 Axes>"
            ]
          },
          "metadata": {
            "tags": [],
            "needs_background": "light"
          }
        }
      ]
    },
    {
      "cell_type": "code",
      "metadata": {
        "id": "-KR0mbMgJ1or",
        "colab_type": "code",
        "colab": {
          "base_uri": "https://localhost:8080/",
          "height": 476
        },
        "outputId": "c2dd3573-bbe5-417e-b94d-6c1e4aa4b8d1"
      },
      "source": [
        "small_model = tf.keras.Sequential([\n",
        "    # `input_shape` is only required here so that `.summary` works.\n",
        "    layers.Dense(16, activation='elu', input_shape=(FEATURES,)),\n",
        "    layers.Dense(16, activation='elu'),\n",
        "    layers.Dense(1)\n",
        "])\n",
        "\n",
        "size_histories['Small'] = compile_and_fit(small_model, 'sizes/Small') "
      ],
      "execution_count": 25,
      "outputs": [
        {
          "output_type": "stream",
          "text": [
            "Model: \"sequential_3\"\n",
            "_________________________________________________________________\n",
            "Layer (type)                 Output Shape              Param #   \n",
            "=================================================================\n",
            "dense_6 (Dense)              (None, 16)                464       \n",
            "_________________________________________________________________\n",
            "dense_7 (Dense)              (None, 16)                272       \n",
            "_________________________________________________________________\n",
            "dense_8 (Dense)              (None, 1)                 17        \n",
            "=================================================================\n",
            "Total params: 753\n",
            "Trainable params: 753\n",
            "Non-trainable params: 0\n",
            "_________________________________________________________________\n",
            "\n",
            "Epoch: 0, accuracy:0.4731,  binary_crossentropy:0.7869,  loss:0.7869,  val_accuracy:0.4680,  val_binary_crossentropy:0.7448,  val_loss:0.7448,  \n",
            "....................................................................................................\n",
            "Epoch: 100, accuracy:0.6373,  binary_crossentropy:0.6037,  loss:0.6037,  val_accuracy:0.6460,  val_binary_crossentropy:0.6072,  val_loss:0.6072,  \n",
            "....................................................................................................\n",
            "Epoch: 200, accuracy:0.6685,  binary_crossentropy:0.5836,  loss:0.5836,  val_accuracy:0.6630,  val_binary_crossentropy:0.5867,  val_loss:0.5867,  \n",
            "....................................................................................................\n",
            "Epoch: 300, accuracy:0.6754,  binary_crossentropy:0.5750,  loss:0.5750,  val_accuracy:0.6710,  val_binary_crossentropy:0.5828,  val_loss:0.5828,  \n",
            "....................................................................................................\n",
            "Epoch: 400, accuracy:0.6811,  binary_crossentropy:0.5689,  loss:0.5689,  val_accuracy:0.6800,  val_binary_crossentropy:0.5814,  val_loss:0.5814,  \n",
            "....................................................................................................\n",
            "Epoch: 500, accuracy:0.6898,  binary_crossentropy:0.5629,  loss:0.5629,  val_accuracy:0.6710,  val_binary_crossentropy:0.5847,  val_loss:0.5847,  \n",
            ".............................................................."
          ],
          "name": "stdout"
        }
      ]
    },
    {
      "cell_type": "code",
      "metadata": {
        "id": "mawekul6KvJ5",
        "colab_type": "code",
        "colab": {
          "base_uri": "https://localhost:8080/",
          "height": 408
        },
        "outputId": "c478ba57-5336-491c-ed48-4b9fbfbebf40"
      },
      "source": [
        "medium_model = tf.keras.Sequential([\n",
        "    layers.Dense(64, activation='elu', input_shape=(FEATURES,)),\n",
        "    layers.Dense(64, activation='elu'),\n",
        "    layers.Dense(64, activation='elu'),\n",
        "    layers.Dense(1)\n",
        "])\n",
        "size_histories['Medium']  = compile_and_fit(medium_model, \"sizes/Medium\")"
      ],
      "execution_count": 27,
      "outputs": [
        {
          "output_type": "stream",
          "text": [
            "Model: \"sequential_5\"\n",
            "_________________________________________________________________\n",
            "Layer (type)                 Output Shape              Param #   \n",
            "=================================================================\n",
            "dense_11 (Dense)             (None, 64)                1856      \n",
            "_________________________________________________________________\n",
            "dense_12 (Dense)             (None, 64)                4160      \n",
            "_________________________________________________________________\n",
            "dense_13 (Dense)             (None, 64)                4160      \n",
            "_________________________________________________________________\n",
            "dense_14 (Dense)             (None, 1)                 65        \n",
            "=================================================================\n",
            "Total params: 10,241\n",
            "Trainable params: 10,241\n",
            "Non-trainable params: 0\n",
            "_________________________________________________________________\n",
            "\n",
            "Epoch: 0, accuracy:0.4802,  binary_crossentropy:0.6974,  loss:0.6974,  val_accuracy:0.4840,  val_binary_crossentropy:0.6821,  val_loss:0.6821,  \n",
            "....................................................................................................\n",
            "Epoch: 100, accuracy:0.7166,  binary_crossentropy:0.5318,  loss:0.5318,  val_accuracy:0.6750,  val_binary_crossentropy:0.5962,  val_loss:0.5962,  \n",
            "....................................................................................................\n",
            "Epoch: 200, accuracy:0.7814,  binary_crossentropy:0.4409,  loss:0.4409,  val_accuracy:0.6540,  val_binary_crossentropy:0.6564,  val_loss:0.6564,  \n",
            "........................................................................."
          ],
          "name": "stdout"
        }
      ]
    },
    {
      "cell_type": "code",
      "metadata": {
        "id": "b5Brdx_WLAE_",
        "colab_type": "code",
        "colab": {
          "base_uri": "https://localhost:8080/",
          "height": 442
        },
        "outputId": "c056ec3b-188e-4431-e969-9256d14a3f01"
      },
      "source": [
        "large_model = tf.keras.Sequential([\n",
        "    layers.Dense(512, activation='elu', input_shape=(FEATURES,)),\n",
        "    layers.Dense(512, activation='elu'),\n",
        "    layers.Dense(512, activation='elu'),\n",
        "    layers.Dense(512, activation='elu'),\n",
        "    layers.Dense(1)\n",
        "])\n",
        "\n",
        "size_histories['large'] = compile_and_fit(large_model, \"sizes/large\")"
      ],
      "execution_count": 28,
      "outputs": [
        {
          "output_type": "stream",
          "text": [
            "Model: \"sequential_6\"\n",
            "_________________________________________________________________\n",
            "Layer (type)                 Output Shape              Param #   \n",
            "=================================================================\n",
            "dense_15 (Dense)             (None, 512)               14848     \n",
            "_________________________________________________________________\n",
            "dense_16 (Dense)             (None, 512)               262656    \n",
            "_________________________________________________________________\n",
            "dense_17 (Dense)             (None, 512)               262656    \n",
            "_________________________________________________________________\n",
            "dense_18 (Dense)             (None, 512)               262656    \n",
            "_________________________________________________________________\n",
            "dense_19 (Dense)             (None, 1)                 513       \n",
            "=================================================================\n",
            "Total params: 803,329\n",
            "Trainable params: 803,329\n",
            "Non-trainable params: 0\n",
            "_________________________________________________________________\n",
            "\n",
            "Epoch: 0, accuracy:0.5114,  binary_crossentropy:0.7537,  loss:0.7537,  val_accuracy:0.4890,  val_binary_crossentropy:0.6829,  val_loss:0.6829,  \n",
            "....................................................................................................\n",
            "Epoch: 100, accuracy:1.0000,  binary_crossentropy:0.0019,  loss:0.0019,  val_accuracy:0.6760,  val_binary_crossentropy:1.7551,  val_loss:1.7551,  \n",
            "....................................................................................................\n",
            "Epoch: 200, accuracy:1.0000,  binary_crossentropy:0.0001,  loss:0.0001,  val_accuracy:0.6790,  val_binary_crossentropy:2.3551,  val_loss:2.3551,  \n",
            "............................"
          ],
          "name": "stdout"
        }
      ]
    },
    {
      "cell_type": "code",
      "metadata": {
        "id": "c5YSkMtqLg_b",
        "colab_type": "code",
        "colab": {
          "base_uri": "https://localhost:8080/",
          "height": 304
        },
        "outputId": "fe5e8e8e-391e-4e3f-d7c4-09e30c7e6d7c"
      },
      "source": [
        "plotter.plot(size_histories)\n",
        "a = plt.xscale('log')\n",
        "plt.xlim([5, max(plt.xlim())])\n",
        "plt.ylim([0.5, 0.7])\n",
        "plt.xlabel(\"Epochs [Log Scale]\")"
      ],
      "execution_count": 29,
      "outputs": [
        {
          "output_type": "execute_result",
          "data": {
            "text/plain": [
              "Text(0.5, 0, 'Epochs [Log Scale]')"
            ]
          },
          "metadata": {
            "tags": []
          },
          "execution_count": 29
        },
        {
          "output_type": "display_data",
          "data": {
            "image/png": "[encoded data removed]",
            "text/plain": [
              "<Figure size 432x288 with 1 Axes>"
            ]
          },
          "metadata": {
            "tags": [],
            "needs_background": "light"
          }
        }
      ]
    },
    {
      "cell_type": "code",
      "metadata": {
        "id": "KYhMq171M1xG",
        "colab_type": "code",
        "colab": {}
      },
      "source": [
        "! tensorboard --logdir {logdir}/sizes"
      ],
      "execution_count": 0,
      "outputs": []
    },
    {
      "cell_type": "code",
      "metadata": {
        "id": "-10vq6GcNU5a",
        "colab_type": "code",
        "colab": {
          "base_uri": "https://localhost:8080/",
          "height": 821
        },
        "outputId": "a9223682-9111-4b24-8875-892ee8d09fc1"
      },
      "source": [
        "display.IFrame(\n",
        "    src=\"https://tensorboard.dev/experiment/vW7jmmF9TmKmy3rbheMQpw/#scalars&_smoothingWeight=0.97\",\n",
        "    width=\"100%\", height=\"800px\")"
      ],
      "execution_count": 32,
      "outputs": [
        {
          "output_type": "execute_result",
          "data": {
            "text/html": [
              "\n",
              "        <iframe\n",
              "            width=\"100%\"\n",
              "            height=\"800px\"\n",
              "            src=\"https://tensorboard.dev/experiment/vW7jmmF9TmKmy3rbheMQpw/#scalars&_smoothingWeight=0.97\"\n",
              "            frameborder=\"0\"\n",
              "            allowfullscreen\n",
              "        ></iframe>\n",
              "        "
            ],
            "text/plain": [
              "<IPython.lib.display.IFrame at 0x7f4fd266ee48>"
            ]
          },
          "metadata": {
            "tags": []
          },
          "execution_count": 32
        }
      ]
    }
  ]
}