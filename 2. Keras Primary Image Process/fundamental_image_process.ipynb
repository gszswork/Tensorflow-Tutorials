{
  "nbformat": 4,
  "nbformat_minor": 0,
  "metadata": {
    "colab": {
      "name": "fundamental image process.ipynb",
      "provenance": [],
      "collapsed_sections": []
    },
    "kernelspec": {
      "name": "python3",
      "display_name": "Python 3"
    }
  },
  "cells": [
    {
      "cell_type": "code",
      "metadata": {
        "id": "xR10VtuvPxIG",
        "colab_type": "code",
        "colab": {}
      },
      "source": [
        "import tensorflow as tf\n",
        "from tensorflow import keras\n",
        "\n",
        "import numpy as np\n",
        "import matplotlib.pyplot as plt"
      ],
      "execution_count": 0,
      "outputs": []
    },
    {
      "cell_type": "markdown",
      "metadata": {
        "id": "llc0-XXpQjr9",
        "colab_type": "text"
      },
      "source": [
        "matplot library 的 pyplot是python的类似matlab plot的工具，for example:\n",
        "x\n",
        "\n",
        "```\n",
        "# 此内容为代码格式\n",
        "import numpy as np\n",
        "import matplotlib.pyplot as plt\n",
        "\n",
        "x = np.arange(0, 5, 0.1)\n",
        "# 0-5之间间隔为0.1\n",
        "y = np.sin(x)\n",
        "plt.plot(x,y)\n",
        "```"
      ]
    },
    {
      "cell_type": "code",
      "metadata": {
        "id": "JcAqoPMWRCLI",
        "colab_type": "code",
        "colab": {
          "base_uri": "https://localhost:8080/",
          "height": 34
        },
        "outputId": "fbb7a3f5-331d-4074-a04d-05b47b67a673"
      },
      "source": [
        "print (tf.__version__)"
      ],
      "execution_count": 34,
      "outputs": [
        {
          "output_type": "stream",
          "text": [
            "2.2.0-rc3\n"
          ],
          "name": "stdout"
        }
      ]
    },
    {
      "cell_type": "code",
      "metadata": {
        "id": "Tep1Idb0RdV4",
        "colab_type": "code",
        "colab": {}
      },
      "source": [
        "# import the Fashion MNIST dataset\n",
        "\n",
        "fashion_mnist = keras.datasets.fashion_mnist\n",
        "(train_images, train_labels),(test_images, test_labels) = fashion_mnist.load_data()"
      ],
      "execution_count": 0,
      "outputs": []
    },
    {
      "cell_type": "markdown",
      "metadata": {
        "id": "tUkjkDy3SbEt",
        "colab_type": "text"
      },
      "source": [
        "train_images.shape -> (60000,28,28) \n",
        "\n",
        "train_labels.shape -> (60000,)\n",
        "each label is an integer between 0-9, which is familar to MNIST handwritting.\n"
      ]
    },
    {
      "cell_type": "code",
      "metadata": {
        "id": "ypduUq8PRdNW",
        "colab_type": "code",
        "colab": {}
      },
      "source": [
        "# define the class names. The names are known from the dataset \n",
        "\n",
        "class_names = ['T-shirt', 'Trouser', 'Pullover', 'Dress', 'Coat',\n",
        "               'Sandal',  'Shirt',   'Sneaker',  'Bag',   'Ankle boot'] "
      ],
      "execution_count": 0,
      "outputs": []
    },
    {
      "cell_type": "code",
      "metadata": {
        "id": "pXYQkf46TMyg",
        "colab_type": "code",
        "colab": {
          "base_uri": "https://localhost:8080/",
          "height": 265
        },
        "outputId": "84e75ec1-5eaf-40e7-b5f8-9bb3c9a6c28b"
      },
      "source": [
        "# have a inspect of the data. (application of the plt)\n",
        "plt.figure()\n",
        "plt.imshow(train_images[0])\n",
        "plt.colorbar\n",
        "plt.grid(False) #grid 控制格子，一开始认为是grey。。。\n",
        "plt.show()"
      ],
      "execution_count": 37,
      "outputs": [
        {
          "output_type": "display_data",
          "data": {
            "image/png": "[encoded data removed]",
            "text/plain": [
              "<Figure size 432x288 with 1 Axes>"
            ]
          },
          "metadata": {
            "tags": [],
            "needs_background": "light"
          }
        }
      ]
    },
    {
      "cell_type": "code",
      "metadata": {
        "id": "9w1v_UUGUQlJ",
        "colab_type": "code",
        "colab": {}
      },
      "source": [
        "# Scale the values in images to between 0-1 (To get rid of the disturbing influence of gradient exploding)\n",
        "# To divide 255 is because the images are in bit-16 color, 2^16 = 256\n",
        "\n",
        "train_images = train_images / 255.0\n",
        "test_images = test_images / 255.0"
      ],
      "execution_count": 0,
      "outputs": []
    },
    {
      "cell_type": "code",
      "metadata": {
        "id": "SetvXg3uUyXd",
        "colab_type": "code",
        "colab": {
          "base_uri": "https://localhost:8080/",
          "height": 589
        },
        "outputId": "588f9d0c-7892-4963-fa51-023a7b19ad34"
      },
      "source": [
        "plt.figure(figsize = (10,10))\n",
        "for i in range(25):\n",
        "  plt.subplot(5,5,i+1)  # subplot(nrows, ncols, index, **kwargs)\n",
        "  plt.xticks([])\n",
        "  plt.yticks([])\n",
        "  plt.grid(False)\n",
        "  plt.imshow(train_images[i], cmap=plt.cm.binary)\n",
        "  plt.xlabel(class_names[train_labels[i]])\n",
        "plt.show()"
      ],
      "execution_count": 39,
      "outputs": [
        {
          "output_type": "display_data",
          "data": {
            "image/png": "[encoded data removed]",
            "text/plain": [
              "<Figure size 720x720 with 25 Axes>"
            ]
          },
          "metadata": {
            "tags": []
          }
        }
      ]
    },
    {
      "cell_type": "code",
      "metadata": {
        "id": "fdzXF7R_WeHB",
        "colab_type": "code",
        "colab": {}
      },
      "source": [
        "model = keras.Sequential([\n",
        "  keras.layers.Flatten(input_shape=(28,28)),\n",
        "  keras.layers.Dense(128, activation='relu'),\n",
        "  keras.layers.Dense(10)\n",
        "])"
      ],
      "execution_count": 0,
      "outputs": []
    },
    {
      "cell_type": "markdown",
      "metadata": {
        "id": "--GuDJgUXGBl",
        "colab_type": "text"
      },
      "source": [
        "Explanation about Sequential:\n",
        "\n",
        "Flatten 将input_shape 为 28*28 的数据扁平成（28*28，1）。\n",
        "这个操作在我matlab实现的三层神经网络也如此实现。在全连接MLP中，没有卷积操作必须将数据改为vector。\n",
        "Dense 就是fully connected layer"
      ]
    },
    {
      "cell_type": "code",
      "metadata": {
        "id": "_he3yHpUbBwC",
        "colab_type": "code",
        "colab": {}
      },
      "source": [
        "model.compile(optimizer='adam',\n",
        "              loss=tf.keras.losses.SparseCategoricalCrossentropy(from_logits=True),\n",
        "              metrics=['accuracy'])\n",
        "\n"
      ],
      "execution_count": 0,
      "outputs": []
    },
    {
      "cell_type": "markdown",
      "metadata": {
        "id": "UrY5YCRrb6X1",
        "colab_type": "text"
      },
      "source": [
        "# Compiling the model:\n",
        "Before the model is ready to be trained, it needs a few more settings.\n",
        "\n",
        "1.   Loss function: 损失函数, 采用了交叉熵损失.\n",
        "Using from_logits=True may be more numerically stable.是否进行逻辑回归。\n",
        "2.   Optimizer: how the model is updated based on the data it sees and its loss function. In here we used Adam.\n",
        "3.   Metrics: Used to monitor (supervise) the training and testing steps.\n"
      ]
    },
    {
      "cell_type": "code",
      "metadata": {
        "id": "i_70KGB8d-ft",
        "colab_type": "code",
        "colab": {
          "base_uri": "https://localhost:8080/",
          "height": 374
        },
        "outputId": "a54b39d8-66b7-4956-d1fb-d760cdcfbbfc"
      },
      "source": [
        "# Train the model\n",
        "# model.fit: Trains the model for a fixed number of epochs (iterations on a dataset).\n",
        "\n",
        "model.fit(train_images, train_labels, epochs=10)"
      ],
      "execution_count": 42,
      "outputs": [
        {
          "output_type": "stream",
          "text": [
            "Epoch 1/10\n",
            "1875/1875 [==============================] - 4s 2ms/step - loss: 0.5017 - accuracy: 0.8229\n",
            "Epoch 2/10\n",
            "1875/1875 [==============================] - 4s 2ms/step - loss: 0.3761 - accuracy: 0.8650\n",
            "Epoch 3/10\n",
            "1875/1875 [==============================] - 3s 2ms/step - loss: 0.3371 - accuracy: 0.8771\n",
            "Epoch 4/10\n",
            "1875/1875 [==============================] - 3s 2ms/step - loss: 0.3117 - accuracy: 0.8852\n",
            "Epoch 5/10\n",
            "1875/1875 [==============================] - 4s 2ms/step - loss: 0.2951 - accuracy: 0.8923\n",
            "Epoch 6/10\n",
            "1875/1875 [==============================] - 4s 2ms/step - loss: 0.2794 - accuracy: 0.8962\n",
            "Epoch 7/10\n",
            "1875/1875 [==============================] - 3s 2ms/step - loss: 0.2681 - accuracy: 0.9013\n",
            "Epoch 8/10\n",
            "1875/1875 [==============================] - 3s 2ms/step - loss: 0.2578 - accuracy: 0.9050\n",
            "Epoch 9/10\n",
            "1875/1875 [==============================] - 4s 2ms/step - loss: 0.2463 - accuracy: 0.9085\n",
            "Epoch 10/10\n",
            "1875/1875 [==============================] - 3s 2ms/step - loss: 0.2386 - accuracy: 0.9105\n"
          ],
          "name": "stdout"
        },
        {
          "output_type": "execute_result",
          "data": {
            "text/plain": [
              "<tensorflow.python.keras.callbacks.History at 0x7f21176650f0>"
            ]
          },
          "metadata": {
            "tags": []
          },
          "execution_count": 42
        }
      ]
    },
    {
      "cell_type": "markdown",
      "metadata": {
        "id": "3GGdJMQneoVF",
        "colab_type": "text"
      },
      "source": [
        "从上述训练Epoch的例子可以看出：\n",
        "训练过程是在上一次Epoch的基础上继续的。每一个Epoch都对training set遍历一遍。"
      ]
    },
    {
      "cell_type": "code",
      "metadata": {
        "id": "AQeVT2eDe8C-",
        "colab_type": "code",
        "colab": {
          "base_uri": "https://localhost:8080/",
          "height": 34
        },
        "outputId": "cc728db4-c672-41c4-fb9c-f8b2f433fb72"
      },
      "source": [
        "test_loss, test_acc = model.evaluate(test_images, test_labels, verbose=2)"
      ],
      "execution_count": 43,
      "outputs": [
        {
          "output_type": "stream",
          "text": [
            "313/313 - 0s - loss: 0.3356 - accuracy: 0.8844\n"
          ],
          "name": "stdout"
        }
      ]
    },
    {
      "cell_type": "markdown",
      "metadata": {
        "id": "GGwmIY6NgFqE",
        "colab_type": "text"
      },
      "source": [
        "# So？训练结束了，如果利用已经训练好的模型进行新数据的预测？"
      ]
    },
    {
      "cell_type": "code",
      "metadata": {
        "id": "Kn44GuNvgNKN",
        "colab_type": "code",
        "colab": {}
      },
      "source": [
        "probability_model = tf.keras.Sequential([model, tf.keras.layers.Softmax()])\n",
        "\n",
        "\n",
        "# then if we get a new test set, we can define it as test_images. new test_images have no labels.\n",
        "\n",
        "predictions = probability_model.predict(test_images)"
      ],
      "execution_count": 0,
      "outputs": []
    },
    {
      "cell_type": "code",
      "metadata": {
        "id": "zbt5K0_Ig2IB",
        "colab_type": "code",
        "colab": {
          "base_uri": "https://localhost:8080/",
          "height": 34
        },
        "outputId": "8aa9faaa-8f40-4723-d5d0-5f33d5d7860f"
      },
      "source": [
        "predictions.shape"
      ],
      "execution_count": 46,
      "outputs": [
        {
          "output_type": "execute_result",
          "data": {
            "text/plain": [
              "(10000, 10)"
            ]
          },
          "metadata": {
            "tags": []
          },
          "execution_count": 46
        }
      ]
    },
    {
      "cell_type": "code",
      "metadata": {
        "id": "rRyMuJO7hxiU",
        "colab_type": "code",
        "colab": {
          "base_uri": "https://localhost:8080/",
          "height": 68
        },
        "outputId": "96e11167-9196-45a9-acd6-79d7ee94cd9d"
      },
      "source": [
        "predictions[0]"
      ],
      "execution_count": 52,
      "outputs": [
        {
          "output_type": "execute_result",
          "data": {
            "text/plain": [
              "array([3.4378383e-10, 1.5154617e-11, 9.1077500e-11, 1.7414568e-11,\n",
              "       5.9535103e-12, 5.8498216e-04, 6.3549827e-08, 5.7767832e-04,\n",
              "       1.5139148e-07, 9.9883717e-01], dtype=float32)"
            ]
          },
          "metadata": {
            "tags": []
          },
          "execution_count": 52
        }
      ]
    },
    {
      "cell_type": "code",
      "metadata": {
        "id": "i739XVVBhKyU",
        "colab_type": "code",
        "colab": {
          "base_uri": "https://localhost:8080/",
          "height": 282
        },
        "outputId": "166f2ba5-5b15-406e-8f76-d77727202db8"
      },
      "source": [
        "x = np.arange (0,10,1)\n",
        "y = predictions[0]\n",
        "plt.plot(x,y)"
      ],
      "execution_count": 53,
      "outputs": [
        {
          "output_type": "execute_result",
          "data": {
            "text/plain": [
              "[<matplotlib.lines.Line2D at 0x7f21175b3f98>]"
            ]
          },
          "metadata": {
            "tags": []
          },
          "execution_count": 53
        },
        {
          "output_type": "display_data",
          "data": {
            "image/png": "[encoded data removed]",
            "text/plain": [
              "<Figure size 432x288 with 1 Axes>"
            ]
          },
          "metadata": {
            "tags": [],
            "needs_background": "light"
          }
        }
      ]
    }
  ]
}